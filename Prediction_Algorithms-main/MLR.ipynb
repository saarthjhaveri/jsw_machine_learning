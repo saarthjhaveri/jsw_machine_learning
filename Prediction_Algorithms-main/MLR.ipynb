{
 "cells": [
  {
   "cell_type": "code",
   "execution_count": 22,
   "id": "80dacbdc",
   "metadata": {},
   "outputs": [],
   "source": [
    "##Prediction for B50"
   ]
  },
  {
   "cell_type": "code",
   "execution_count": 1,
   "id": "1cff9236",
   "metadata": {},
   "outputs": [],
   "source": [
    "import pandas as pd\n",
    "import numpy as np\n",
    "from sklearn import linear_model"
   ]
  },
  {
   "cell_type": "code",
   "execution_count": 2,
   "id": "d9b21ae6",
   "metadata": {},
   "outputs": [],
   "source": [
    "df=pd.read_csv(\"final_1.csv\")"
   ]
  },
  {
   "cell_type": "code",
   "execution_count": 3,
   "id": "a012c596",
   "metadata": {},
   "outputs": [
    {
     "data": {
      "text/html": [
       "<div>\n",
       "<style scoped>\n",
       "    .dataframe tbody tr th:only-of-type {\n",
       "        vertical-align: middle;\n",
       "    }\n",
       "\n",
       "    .dataframe tbody tr th {\n",
       "        vertical-align: top;\n",
       "    }\n",
       "\n",
       "    .dataframe thead th {\n",
       "        text-align: right;\n",
       "    }\n",
       "</style>\n",
       "<table border=\"1\" class=\"dataframe\">\n",
       "  <thead>\n",
       "    <tr style=\"text-align: right;\">\n",
       "      <th></th>\n",
       "      <th>Slab Width</th>\n",
       "      <th>Slab Length</th>\n",
       "      <th>AL</th>\n",
       "      <th>B</th>\n",
       "      <th>C</th>\n",
       "      <th>CA</th>\n",
       "      <th>NB</th>\n",
       "      <th>CR</th>\n",
       "      <th>CU</th>\n",
       "      <th>MN</th>\n",
       "      <th>...</th>\n",
       "      <th>Radiant Tube Furnace Dewpoint</th>\n",
       "      <th>After Tube Cooling Dewpoint</th>\n",
       "      <th>Rapid Jet Cooling Dewpoint</th>\n",
       "      <th>Coating Thickness</th>\n",
       "      <th>Drying Furnace Press</th>\n",
       "      <th>B50</th>\n",
       "      <th>Hardness</th>\n",
       "      <th>Coreloss-Before Aging</th>\n",
       "      <th>Coreloss After Aging</th>\n",
       "      <th>Permeability</th>\n",
       "    </tr>\n",
       "  </thead>\n",
       "  <tbody>\n",
       "    <tr>\n",
       "      <th>0</th>\n",
       "      <td>1265.0</td>\n",
       "      <td>9730.0</td>\n",
       "      <td>0.002</td>\n",
       "      <td>0.0001</td>\n",
       "      <td>0.0012</td>\n",
       "      <td>0.0002</td>\n",
       "      <td>0.0002</td>\n",
       "      <td>0.026</td>\n",
       "      <td>0.006</td>\n",
       "      <td>0.21</td>\n",
       "      <td>...</td>\n",
       "      <td>-18.500</td>\n",
       "      <td>-26.132</td>\n",
       "      <td>-18.20668</td>\n",
       "      <td>1.50</td>\n",
       "      <td>-6.026</td>\n",
       "      <td>1.73</td>\n",
       "      <td>128.0</td>\n",
       "      <td>5.70</td>\n",
       "      <td>5.74</td>\n",
       "      <td>1963.0</td>\n",
       "    </tr>\n",
       "    <tr>\n",
       "      <th>1</th>\n",
       "      <td>1265.0</td>\n",
       "      <td>9730.0</td>\n",
       "      <td>0.001</td>\n",
       "      <td>0.0001</td>\n",
       "      <td>0.0016</td>\n",
       "      <td>0.0001</td>\n",
       "      <td>0.0002</td>\n",
       "      <td>0.031</td>\n",
       "      <td>0.006</td>\n",
       "      <td>0.20</td>\n",
       "      <td>...</td>\n",
       "      <td>-99.000</td>\n",
       "      <td>-99.000</td>\n",
       "      <td>-98.99991</td>\n",
       "      <td>1.55</td>\n",
       "      <td>-6.324</td>\n",
       "      <td>1.73</td>\n",
       "      <td>120.0</td>\n",
       "      <td>5.92</td>\n",
       "      <td>5.92</td>\n",
       "      <td>1921.0</td>\n",
       "    </tr>\n",
       "    <tr>\n",
       "      <th>2</th>\n",
       "      <td>1265.0</td>\n",
       "      <td>7810.0</td>\n",
       "      <td>0.002</td>\n",
       "      <td>0.0001</td>\n",
       "      <td>0.0012</td>\n",
       "      <td>0.0002</td>\n",
       "      <td>0.0002</td>\n",
       "      <td>0.026</td>\n",
       "      <td>0.006</td>\n",
       "      <td>0.21</td>\n",
       "      <td>...</td>\n",
       "      <td>-25.112</td>\n",
       "      <td>-23.253</td>\n",
       "      <td>-12.16960</td>\n",
       "      <td>1.48</td>\n",
       "      <td>-6.512</td>\n",
       "      <td>1.72</td>\n",
       "      <td>124.0</td>\n",
       "      <td>5.15</td>\n",
       "      <td>5.15</td>\n",
       "      <td>1853.0</td>\n",
       "    </tr>\n",
       "    <tr>\n",
       "      <th>3</th>\n",
       "      <td>1265.0</td>\n",
       "      <td>9730.0</td>\n",
       "      <td>0.001</td>\n",
       "      <td>0.0001</td>\n",
       "      <td>0.0016</td>\n",
       "      <td>0.0001</td>\n",
       "      <td>0.0002</td>\n",
       "      <td>0.031</td>\n",
       "      <td>0.006</td>\n",
       "      <td>0.20</td>\n",
       "      <td>...</td>\n",
       "      <td>-23.525</td>\n",
       "      <td>-27.873</td>\n",
       "      <td>-12.54678</td>\n",
       "      <td>1.41</td>\n",
       "      <td>-6.806</td>\n",
       "      <td>1.74</td>\n",
       "      <td>121.0</td>\n",
       "      <td>5.42</td>\n",
       "      <td>5.47</td>\n",
       "      <td>2071.0</td>\n",
       "    </tr>\n",
       "    <tr>\n",
       "      <th>4</th>\n",
       "      <td>1265.0</td>\n",
       "      <td>9730.0</td>\n",
       "      <td>0.001</td>\n",
       "      <td>0.0001</td>\n",
       "      <td>0.0016</td>\n",
       "      <td>0.0001</td>\n",
       "      <td>0.0002</td>\n",
       "      <td>0.031</td>\n",
       "      <td>0.006</td>\n",
       "      <td>0.20</td>\n",
       "      <td>...</td>\n",
       "      <td>-19.758</td>\n",
       "      <td>-25.796</td>\n",
       "      <td>-16.47658</td>\n",
       "      <td>1.37</td>\n",
       "      <td>-6.831</td>\n",
       "      <td>1.72</td>\n",
       "      <td>122.0</td>\n",
       "      <td>5.38</td>\n",
       "      <td>5.40</td>\n",
       "      <td>1747.0</td>\n",
       "    </tr>\n",
       "  </tbody>\n",
       "</table>\n",
       "<p>5 rows × 40 columns</p>\n",
       "</div>"
      ],
      "text/plain": [
       "   Slab Width  Slab Length     AL       B       C      CA      NB     CR  \\\n",
       "0      1265.0       9730.0  0.002  0.0001  0.0012  0.0002  0.0002  0.026   \n",
       "1      1265.0       9730.0  0.001  0.0001  0.0016  0.0001  0.0002  0.031   \n",
       "2      1265.0       7810.0  0.002  0.0001  0.0012  0.0002  0.0002  0.026   \n",
       "3      1265.0       9730.0  0.001  0.0001  0.0016  0.0001  0.0002  0.031   \n",
       "4      1265.0       9730.0  0.001  0.0001  0.0016  0.0001  0.0002  0.031   \n",
       "\n",
       "      CU    MN  ...  Radiant Tube Furnace Dewpoint  \\\n",
       "0  0.006  0.21  ...                        -18.500   \n",
       "1  0.006  0.20  ...                        -99.000   \n",
       "2  0.006  0.21  ...                        -25.112   \n",
       "3  0.006  0.20  ...                        -23.525   \n",
       "4  0.006  0.20  ...                        -19.758   \n",
       "\n",
       "   After Tube Cooling Dewpoint  Rapid Jet Cooling Dewpoint  Coating Thickness  \\\n",
       "0                      -26.132                   -18.20668               1.50   \n",
       "1                      -99.000                   -98.99991               1.55   \n",
       "2                      -23.253                   -12.16960               1.48   \n",
       "3                      -27.873                   -12.54678               1.41   \n",
       "4                      -25.796                   -16.47658               1.37   \n",
       "\n",
       "   Drying Furnace Press   B50  Hardness  Coreloss-Before Aging  \\\n",
       "0                -6.026  1.73     128.0                   5.70   \n",
       "1                -6.324  1.73     120.0                   5.92   \n",
       "2                -6.512  1.72     124.0                   5.15   \n",
       "3                -6.806  1.74     121.0                   5.42   \n",
       "4                -6.831  1.72     122.0                   5.38   \n",
       "\n",
       "   Coreloss After Aging  Permeability  \n",
       "0                  5.74        1963.0  \n",
       "1                  5.92        1921.0  \n",
       "2                  5.15        1853.0  \n",
       "3                  5.47        2071.0  \n",
       "4                  5.40        1747.0  \n",
       "\n",
       "[5 rows x 40 columns]"
      ]
     },
     "execution_count": 3,
     "metadata": {},
     "output_type": "execute_result"
    }
   ],
   "source": [
    "df.head(5)"
   ]
  },
  {
   "cell_type": "code",
   "execution_count": 4,
   "id": "580304cd",
   "metadata": {},
   "outputs": [
    {
     "data": {
      "text/plain": [
       "Index(['Slab Width', 'Slab Length', 'AL', 'B', 'C', 'CA', 'NB', 'CR', 'CU',\n",
       "       'MN', 'MO', 'N', 'NI', 'P', 'S', 'SI', 'TI', 'V',\n",
       "       'Reheating Furnace Exit Temp', 'Finishing Temp', 'Coiling Temp',\n",
       "       'FM Exit Thickness', 'Coil Outr Dia', 'Avg line speed', 'weld pressure',\n",
       "       'Reduction Ratio', 'ACL-Thickness', 'ACL-Width', 'ACL-Length',\n",
       "       'O2 in Heating Element Furnace', 'Radiant Tube Furnace Dewpoint',\n",
       "       'After Tube Cooling Dewpoint', 'Rapid Jet Cooling Dewpoint',\n",
       "       'Coating Thickness', 'Drying Furnace Press', 'B50', 'Hardness',\n",
       "       'Coreloss-Before Aging', 'Coreloss After Aging', 'Permeability'],\n",
       "      dtype='object')"
      ]
     },
     "execution_count": 4,
     "metadata": {},
     "output_type": "execute_result"
    }
   ],
   "source": [
    "df.columns"
   ]
  },
  {
   "cell_type": "code",
   "execution_count": 5,
   "id": "d0d6ae0d",
   "metadata": {},
   "outputs": [],
   "source": [
    "req_col=['Slab Width', 'Slab Length', 'AL', 'B', 'C', 'CA', 'NB', 'CR', 'CU',\n",
    "       'MN', 'MO', 'N', 'NI', 'P', 'S', 'SI', 'TI', 'V',\n",
    "       'Reheating Furnace Exit Temp', 'Finishing Temp', 'Coiling Temp',\n",
    "       'FM Exit Thickness', 'Coil Outr Dia', 'Avg line speed', 'weld pressure',\n",
    "       'Reduction Ratio', 'ACL-Thickness', 'ACL-Width', 'ACL-Length',\n",
    "       'O2 in Heating Element Furnace', 'Radiant Tube Furnace Dewpoint',\n",
    "       'After Tube Cooling Dewpoint', 'Rapid Jet Cooling Dewpoint',\n",
    "       'Coating Thickness', 'Drying Furnace Press', 'B50']"
   ]
  },
  {
   "cell_type": "code",
   "execution_count": 6,
   "id": "d91734d8",
   "metadata": {},
   "outputs": [],
   "source": [
    "df=df[req_col]"
   ]
  },
  {
   "cell_type": "code",
   "execution_count": 7,
   "id": "ef7982cd",
   "metadata": {},
   "outputs": [
    {
     "data": {
      "text/plain": [
       "Index(['Slab Width', 'Slab Length', 'AL', 'B', 'C', 'CA', 'NB', 'CR', 'CU',\n",
       "       'MN', 'MO', 'N', 'NI', 'P', 'S', 'SI', 'TI', 'V',\n",
       "       'Reheating Furnace Exit Temp', 'Finishing Temp', 'Coiling Temp',\n",
       "       'FM Exit Thickness', 'Coil Outr Dia', 'Avg line speed', 'weld pressure',\n",
       "       'Reduction Ratio', 'ACL-Thickness', 'ACL-Width', 'ACL-Length',\n",
       "       'O2 in Heating Element Furnace', 'Radiant Tube Furnace Dewpoint',\n",
       "       'After Tube Cooling Dewpoint', 'Rapid Jet Cooling Dewpoint',\n",
       "       'Coating Thickness', 'Drying Furnace Press', 'B50'],\n",
       "      dtype='object')"
      ]
     },
     "execution_count": 7,
     "metadata": {},
     "output_type": "execute_result"
    }
   ],
   "source": [
    "df.columns"
   ]
  },
  {
   "cell_type": "code",
   "execution_count": 11,
   "id": "8ed2db31",
   "metadata": {},
   "outputs": [],
   "source": [
    "X=df[['Slab Width', 'Slab Length', 'AL', 'B', 'C', 'CA', 'NB', 'CR', 'CU',\n",
    "       'MN', 'MO', 'N', 'NI', 'P', 'S', 'SI', 'TI', 'V',\n",
    "       'Reheating Furnace Exit Temp', 'Finishing Temp', 'Coiling Temp',\n",
    "       'FM Exit Thickness', 'Coil Outr Dia', 'Avg line speed', 'weld pressure',\n",
    "       'Reduction Ratio', 'ACL-Thickness', 'ACL-Width', 'ACL-Length',\n",
    "       'O2 in Heating Element Furnace', 'Radiant Tube Furnace Dewpoint',\n",
    "       'After Tube Cooling Dewpoint', 'Rapid Jet Cooling Dewpoint',\n",
    "       'Coating Thickness', 'Drying Furnace Press']]\n",
    "y=df[['B50']]\n"
   ]
  },
  {
   "cell_type": "code",
   "execution_count": 12,
   "id": "e2bfda2e",
   "metadata": {},
   "outputs": [],
   "source": [
    "from sklearn.model_selection import train_test_split"
   ]
  },
  {
   "cell_type": "code",
   "execution_count": 14,
   "id": "2998a9a9",
   "metadata": {},
   "outputs": [],
   "source": [
    "X_train,X_test,y_train,y_test= train_test_split(X,y,test_size=0.2)"
   ]
  },
  {
   "cell_type": "code",
   "execution_count": 16,
   "id": "07180e0c",
   "metadata": {},
   "outputs": [
    {
     "data": {
      "text/plain": [
       "(4664, 35)"
      ]
     },
     "execution_count": 16,
     "metadata": {},
     "output_type": "execute_result"
    }
   ],
   "source": [
    "X_train.shape"
   ]
  },
  {
   "cell_type": "code",
   "execution_count": 17,
   "id": "eddc1575",
   "metadata": {},
   "outputs": [
    {
     "data": {
      "text/plain": [
       "(1167, 35)"
      ]
     },
     "execution_count": 17,
     "metadata": {},
     "output_type": "execute_result"
    }
   ],
   "source": [
    "X_test.shape"
   ]
  },
  {
   "cell_type": "code",
   "execution_count": 20,
   "id": "e6560125",
   "metadata": {},
   "outputs": [
    {
     "data": {
      "text/plain": [
       "LinearRegression()"
      ]
     },
     "execution_count": 20,
     "metadata": {},
     "output_type": "execute_result"
    }
   ],
   "source": [
    "reg=linear_model.LinearRegression()\n",
    "reg.fit(X_train,y_train)"
   ]
  },
  {
   "cell_type": "code",
   "execution_count": 21,
   "id": "5e1fda1f",
   "metadata": {},
   "outputs": [
    {
     "data": {
      "text/plain": [
       "0.720822346871949"
      ]
     },
     "execution_count": 21,
     "metadata": {},
     "output_type": "execute_result"
    }
   ],
   "source": [
    "reg.score(X_test,y_test)"
   ]
  },
  {
   "cell_type": "code",
   "execution_count": 23,
   "id": "1435ddc4",
   "metadata": {},
   "outputs": [],
   "source": [
    "## Prediction for Hardness"
   ]
  },
  {
   "cell_type": "code",
   "execution_count": 28,
   "id": "a1d57607",
   "metadata": {},
   "outputs": [],
   "source": [
    "df=pd.read_csv(r\"C:\\Users\\admin\\Desktop\\JSW\\B50\\final_1.csv\")"
   ]
  },
  {
   "cell_type": "code",
   "execution_count": 29,
   "id": "a67ba76d",
   "metadata": {},
   "outputs": [
    {
     "data": {
      "text/plain": [
       "Index(['Slab Width', 'Slab Length', 'AL', 'B', 'C', 'CA', 'NB', 'CR', 'CU',\n",
       "       'MN', 'MO', 'N', 'NI', 'P', 'S', 'SI', 'TI', 'V',\n",
       "       'Reheating Furnace Exit Temp', 'Finishing Temp', 'Coiling Temp',\n",
       "       'FM Exit Thickness', 'Coil Outr Dia', 'Avg line speed', 'weld pressure',\n",
       "       'Reduction Ratio', 'ACL-Thickness', 'ACL-Width', 'ACL-Length',\n",
       "       'O2 in Heating Element Furnace', 'Radiant Tube Furnace Dewpoint',\n",
       "       'After Tube Cooling Dewpoint', 'Rapid Jet Cooling Dewpoint',\n",
       "       'Coating Thickness', 'Drying Furnace Press', 'B50', 'Hardness',\n",
       "       'Coreloss-Before Aging', 'Coreloss After Aging', 'Permeability'],\n",
       "      dtype='object')"
      ]
     },
     "execution_count": 29,
     "metadata": {},
     "output_type": "execute_result"
    }
   ],
   "source": [
    "df.columns"
   ]
  },
  {
   "cell_type": "code",
   "execution_count": 30,
   "id": "81432e94",
   "metadata": {},
   "outputs": [],
   "source": [
    "col_req=['Slab Width', 'Slab Length', 'AL', 'B', 'C', 'CA', 'NB', 'CR', 'CU',\n",
    "       'MN', 'MO', 'N', 'NI', 'P', 'S', 'SI', 'TI', 'V',\n",
    "       'Reheating Furnace Exit Temp', 'Finishing Temp', 'Coiling Temp',\n",
    "       'FM Exit Thickness', 'Coil Outr Dia', 'Avg line speed', 'weld pressure',\n",
    "       'Reduction Ratio', 'ACL-Thickness', 'ACL-Width', 'ACL-Length',\n",
    "       'O2 in Heating Element Furnace', 'Radiant Tube Furnace Dewpoint',\n",
    "       'After Tube Cooling Dewpoint', 'Rapid Jet Cooling Dewpoint',\n",
    "       'Coating Thickness', 'Drying Furnace Press', 'Hardness']"
   ]
  },
  {
   "cell_type": "code",
   "execution_count": 31,
   "id": "e00b00bd",
   "metadata": {},
   "outputs": [],
   "source": [
    "df=df[col_req]"
   ]
  },
  {
   "cell_type": "code",
   "execution_count": 35,
   "id": "08d312db",
   "metadata": {},
   "outputs": [],
   "source": [
    "X=df[['Slab Width', 'Slab Length', 'AL', 'B', 'C', 'CA', 'NB', 'CR', 'CU',\n",
    "       'MN', 'MO', 'N', 'NI', 'P', 'S', 'SI', 'TI', 'V',\n",
    "       'Reheating Furnace Exit Temp', 'Finishing Temp', 'Coiling Temp',\n",
    "       'FM Exit Thickness', 'Coil Outr Dia', 'Avg line speed', 'weld pressure',\n",
    "       'Reduction Ratio', 'ACL-Thickness', 'ACL-Width', 'ACL-Length',\n",
    "       'O2 in Heating Element Furnace', 'Radiant Tube Furnace Dewpoint',\n",
    "       'After Tube Cooling Dewpoint', 'Rapid Jet Cooling Dewpoint',\n",
    "       'Coating Thickness', 'Drying Furnace Press']]\n",
    "y=df[['Hardness']]"
   ]
  },
  {
   "cell_type": "code",
   "execution_count": 36,
   "id": "844a3696",
   "metadata": {},
   "outputs": [],
   "source": [
    "from sklearn.model_selection import train_test_split\n"
   ]
  },
  {
   "cell_type": "code",
   "execution_count": 37,
   "id": "ea56212b",
   "metadata": {},
   "outputs": [],
   "source": [
    "X_train,X_test,y_tain,y_test=train_test_split(X,y,test_size=0.2)"
   ]
  },
  {
   "cell_type": "code",
   "execution_count": 39,
   "id": "210b9aa1",
   "metadata": {},
   "outputs": [
    {
     "data": {
      "text/plain": [
       "(4664, 35)"
      ]
     },
     "execution_count": 39,
     "metadata": {},
     "output_type": "execute_result"
    }
   ],
   "source": [
    "X_train.shape"
   ]
  },
  {
   "cell_type": "code",
   "execution_count": 40,
   "id": "5b593aec",
   "metadata": {},
   "outputs": [
    {
     "data": {
      "text/plain": [
       "(1167, 35)"
      ]
     },
     "execution_count": 40,
     "metadata": {},
     "output_type": "execute_result"
    }
   ],
   "source": [
    "X_test.shape"
   ]
  },
  {
   "cell_type": "code",
   "execution_count": 41,
   "id": "89968803",
   "metadata": {},
   "outputs": [],
   "source": [
    "reg=linear_model.LinearRegression()"
   ]
  },
  {
   "cell_type": "code",
   "execution_count": 42,
   "id": "0ae3281a",
   "metadata": {},
   "outputs": [
    {
     "data": {
      "text/plain": [
       "LinearRegression()"
      ]
     },
     "execution_count": 42,
     "metadata": {},
     "output_type": "execute_result"
    }
   ],
   "source": [
    "reg.fit(X_train,y_train)"
   ]
  },
  {
   "cell_type": "code",
   "execution_count": 45,
   "id": "8a9aeceb",
   "metadata": {},
   "outputs": [
    {
     "data": {
      "text/plain": [
       "-59.60253317765112"
      ]
     },
     "execution_count": 45,
     "metadata": {},
     "output_type": "execute_result"
    }
   ],
   "source": [
    "reg.score(X_test,y_test)"
   ]
  },
  {
   "cell_type": "code",
   "execution_count": 46,
   "id": "fb96274d",
   "metadata": {},
   "outputs": [],
   "source": [
    "### Core Loss After Aging "
   ]
  },
  {
   "cell_type": "code",
   "execution_count": 47,
   "id": "e99c40e1",
   "metadata": {},
   "outputs": [],
   "source": [
    "df=pd.read_csv(\"final_1.csv\")"
   ]
  },
  {
   "cell_type": "code",
   "execution_count": 48,
   "id": "e2ae9bc9",
   "metadata": {},
   "outputs": [
    {
     "data": {
      "text/plain": [
       "Index(['Slab Width', 'Slab Length', 'AL', 'B', 'C', 'CA', 'NB', 'CR', 'CU',\n",
       "       'MN', 'MO', 'N', 'NI', 'P', 'S', 'SI', 'TI', 'V',\n",
       "       'Reheating Furnace Exit Temp', 'Finishing Temp', 'Coiling Temp',\n",
       "       'FM Exit Thickness', 'Coil Outr Dia', 'Avg line speed', 'weld pressure',\n",
       "       'Reduction Ratio', 'ACL-Thickness', 'ACL-Width', 'ACL-Length',\n",
       "       'O2 in Heating Element Furnace', 'Radiant Tube Furnace Dewpoint',\n",
       "       'After Tube Cooling Dewpoint', 'Rapid Jet Cooling Dewpoint',\n",
       "       'Coating Thickness', 'Drying Furnace Press', 'B50', 'Hardness',\n",
       "       'Coreloss-Before Aging', 'Coreloss After Aging', 'Permeability'],\n",
       "      dtype='object')"
      ]
     },
     "execution_count": 48,
     "metadata": {},
     "output_type": "execute_result"
    }
   ],
   "source": [
    "df.columns"
   ]
  },
  {
   "cell_type": "code",
   "execution_count": 49,
   "id": "f62c7ced",
   "metadata": {},
   "outputs": [],
   "source": [
    "req_col=['Slab Width', 'Slab Length', 'AL', 'B', 'C', 'CA', 'NB', 'CR', 'CU',\n",
    "       'MN', 'MO', 'N', 'NI', 'P', 'S', 'SI', 'TI', 'V',\n",
    "       'Reheating Furnace Exit Temp', 'Finishing Temp', 'Coiling Temp',\n",
    "       'FM Exit Thickness', 'Coil Outr Dia', 'Avg line speed', 'weld pressure',\n",
    "       'Reduction Ratio', 'ACL-Thickness', 'ACL-Width', 'ACL-Length',\n",
    "       'O2 in Heating Element Furnace', 'Radiant Tube Furnace Dewpoint',\n",
    "       'After Tube Cooling Dewpoint', 'Rapid Jet Cooling Dewpoint',\n",
    "       'Coating Thickness', 'Drying Furnace Press','Coreloss-Before Aging']"
   ]
  },
  {
   "cell_type": "code",
   "execution_count": 50,
   "id": "6f4aadae",
   "metadata": {},
   "outputs": [],
   "source": [
    "df=df[req_col]"
   ]
  },
  {
   "cell_type": "code",
   "execution_count": 52,
   "id": "d89d4169",
   "metadata": {},
   "outputs": [],
   "source": [
    "X=df[['Slab Width', 'Slab Length', 'AL', 'B', 'C', 'CA', 'NB', 'CR', 'CU',\n",
    "       'MN', 'MO', 'N', 'NI', 'P', 'S', 'SI', 'TI', 'V',\n",
    "       'Reheating Furnace Exit Temp', 'Finishing Temp', 'Coiling Temp',\n",
    "       'FM Exit Thickness', 'Coil Outr Dia', 'Avg line speed', 'weld pressure',\n",
    "       'Reduction Ratio', 'ACL-Thickness', 'ACL-Width', 'ACL-Length',\n",
    "       'O2 in Heating Element Furnace', 'Radiant Tube Furnace Dewpoint',\n",
    "       'After Tube Cooling Dewpoint', 'Rapid Jet Cooling Dewpoint',\n",
    "       'Coating Thickness', 'Drying Furnace Press']]\n",
    "y=df[['Coreloss-Before Aging']]"
   ]
  },
  {
   "cell_type": "code",
   "execution_count": 54,
   "id": "80a6b93c",
   "metadata": {},
   "outputs": [],
   "source": [
    "from sklearn.model_selection import train_test_split"
   ]
  },
  {
   "cell_type": "code",
   "execution_count": 55,
   "id": "e68a66a3",
   "metadata": {},
   "outputs": [],
   "source": [
    "X_train,X_test,y_train,y_test=train_test_split(X,y,test_size=0.2)"
   ]
  },
  {
   "cell_type": "code",
   "execution_count": 56,
   "id": "a3ffe12e",
   "metadata": {},
   "outputs": [],
   "source": [
    "reg=linear_model.LinearRegression()"
   ]
  },
  {
   "cell_type": "code",
   "execution_count": 57,
   "id": "488ec36f",
   "metadata": {},
   "outputs": [
    {
     "data": {
      "text/plain": [
       "LinearRegression()"
      ]
     },
     "execution_count": 57,
     "metadata": {},
     "output_type": "execute_result"
    }
   ],
   "source": [
    "reg.fit(X_train,y_train)"
   ]
  },
  {
   "cell_type": "code",
   "execution_count": 59,
   "id": "ecf9fef4",
   "metadata": {},
   "outputs": [
    {
     "data": {
      "text/plain": [
       "0.8906368449277637"
      ]
     },
     "execution_count": 59,
     "metadata": {},
     "output_type": "execute_result"
    }
   ],
   "source": [
    "reg.score(X_test,y_test)"
   ]
  },
  {
   "cell_type": "code",
   "execution_count": 60,
   "id": "9f281f2f",
   "metadata": {},
   "outputs": [],
   "source": [
    "### Core Loss Before Aging "
   ]
  },
  {
   "cell_type": "code",
   "execution_count": 61,
   "id": "7018224e",
   "metadata": {},
   "outputs": [],
   "source": [
    "df=pd.read_csv(\"final_1.csv\")"
   ]
  },
  {
   "cell_type": "code",
   "execution_count": 62,
   "id": "d169e4ad",
   "metadata": {},
   "outputs": [
    {
     "data": {
      "text/plain": [
       "Index(['Slab Width', 'Slab Length', 'AL', 'B', 'C', 'CA', 'NB', 'CR', 'CU',\n",
       "       'MN', 'MO', 'N', 'NI', 'P', 'S', 'SI', 'TI', 'V',\n",
       "       'Reheating Furnace Exit Temp', 'Finishing Temp', 'Coiling Temp',\n",
       "       'FM Exit Thickness', 'Coil Outr Dia', 'Avg line speed', 'weld pressure',\n",
       "       'Reduction Ratio', 'ACL-Thickness', 'ACL-Width', 'ACL-Length',\n",
       "       'O2 in Heating Element Furnace', 'Radiant Tube Furnace Dewpoint',\n",
       "       'After Tube Cooling Dewpoint', 'Rapid Jet Cooling Dewpoint',\n",
       "       'Coating Thickness', 'Drying Furnace Press', 'B50', 'Hardness',\n",
       "       'Coreloss-Before Aging', 'Coreloss After Aging', 'Permeability'],\n",
       "      dtype='object')"
      ]
     },
     "execution_count": 62,
     "metadata": {},
     "output_type": "execute_result"
    }
   ],
   "source": [
    "df.columns"
   ]
  },
  {
   "cell_type": "code",
   "execution_count": 68,
   "id": "db8b3b9b",
   "metadata": {},
   "outputs": [],
   "source": [
    "req_col=['Slab Width', 'Slab Length', 'AL', 'B', 'C', 'CA', 'NB', 'CR', 'CU',\n",
    "       'MN', 'MO', 'N', 'NI', 'P', 'S', 'SI', 'TI', 'V',\n",
    "       'Reheating Furnace Exit Temp', 'Finishing Temp', 'Coiling Temp',\n",
    "       'FM Exit Thickness', 'Coil Outr Dia', 'Avg line speed', 'weld pressure',\n",
    "       'Reduction Ratio', 'ACL-Thickness', 'ACL-Width', 'ACL-Length',\n",
    "       'O2 in Heating Element Furnace', 'Radiant Tube Furnace Dewpoint',\n",
    "       'After Tube Cooling Dewpoint', 'Rapid Jet Cooling Dewpoint',\n",
    "       'Coating Thickness', 'Drying Furnace Press', 'Coreloss After Aging']"
   ]
  },
  {
   "cell_type": "code",
   "execution_count": 69,
   "id": "9eb0f29f",
   "metadata": {},
   "outputs": [],
   "source": [
    "df=df[req_col]\n"
   ]
  },
  {
   "cell_type": "code",
   "execution_count": 70,
   "id": "b77af3c0",
   "metadata": {},
   "outputs": [],
   "source": [
    "X=df[['Slab Width', 'Slab Length', 'AL', 'B', 'C', 'CA', 'NB', 'CR', 'CU',\n",
    "       'MN', 'MO', 'N', 'NI', 'P', 'S', 'SI', 'TI', 'V',\n",
    "       'Reheating Furnace Exit Temp', 'Finishing Temp', 'Coiling Temp',\n",
    "       'FM Exit Thickness', 'Coil Outr Dia', 'Avg line speed', 'weld pressure',\n",
    "       'Reduction Ratio', 'ACL-Thickness', 'ACL-Width', 'ACL-Length',\n",
    "       'O2 in Heating Element Furnace', 'Radiant Tube Furnace Dewpoint',\n",
    "       'After Tube Cooling Dewpoint', 'Rapid Jet Cooling Dewpoint',\n",
    "       'Coating Thickness', 'Drying Furnace Press']]\n",
    "y=df[['Coreloss After Aging']]"
   ]
  },
  {
   "cell_type": "code",
   "execution_count": 71,
   "id": "ecd86588",
   "metadata": {},
   "outputs": [],
   "source": [
    "from sklearn.model_selection import train_test_split\n",
    "X_train,X_test,y_train,y_test= train_test_split(X,y,test_size=0.2)"
   ]
  },
  {
   "cell_type": "code",
   "execution_count": 72,
   "id": "1455d4aa",
   "metadata": {},
   "outputs": [],
   "source": [
    "reg=linear_model.LinearRegression()"
   ]
  },
  {
   "cell_type": "code",
   "execution_count": 73,
   "id": "4d990985",
   "metadata": {},
   "outputs": [
    {
     "data": {
      "text/plain": [
       "LinearRegression()"
      ]
     },
     "execution_count": 73,
     "metadata": {},
     "output_type": "execute_result"
    }
   ],
   "source": [
    "reg.fit(X_train,y_train)"
   ]
  },
  {
   "cell_type": "code",
   "execution_count": 74,
   "id": "b14ed00d",
   "metadata": {},
   "outputs": [
    {
     "data": {
      "text/plain": [
       "0.8832215177908262"
      ]
     },
     "execution_count": 74,
     "metadata": {},
     "output_type": "execute_result"
    }
   ],
   "source": [
    "reg.score(X_test,y_test)"
   ]
  },
  {
   "cell_type": "code",
   "execution_count": 75,
   "id": "9b11a7a5",
   "metadata": {},
   "outputs": [],
   "source": [
    "### Prediction for Permeability"
   ]
  },
  {
   "cell_type": "code",
   "execution_count": 77,
   "id": "b8b9b17a",
   "metadata": {},
   "outputs": [],
   "source": [
    "df=pd.read_csv(\"final_1.csv\")"
   ]
  },
  {
   "cell_type": "code",
   "execution_count": 78,
   "id": "f8b4b00f",
   "metadata": {},
   "outputs": [
    {
     "data": {
      "text/plain": [
       "Index(['Slab Width', 'Slab Length', 'AL', 'B', 'C', 'CA', 'NB', 'CR', 'CU',\n",
       "       'MN', 'MO', 'N', 'NI', 'P', 'S', 'SI', 'TI', 'V',\n",
       "       'Reheating Furnace Exit Temp', 'Finishing Temp', 'Coiling Temp',\n",
       "       'FM Exit Thickness', 'Coil Outr Dia', 'Avg line speed', 'weld pressure',\n",
       "       'Reduction Ratio', 'ACL-Thickness', 'ACL-Width', 'ACL-Length',\n",
       "       'O2 in Heating Element Furnace', 'Radiant Tube Furnace Dewpoint',\n",
       "       'After Tube Cooling Dewpoint', 'Rapid Jet Cooling Dewpoint',\n",
       "       'Coating Thickness', 'Drying Furnace Press', 'B50', 'Hardness',\n",
       "       'Coreloss-Before Aging', 'Coreloss After Aging', 'Permeability'],\n",
       "      dtype='object')"
      ]
     },
     "execution_count": 78,
     "metadata": {},
     "output_type": "execute_result"
    }
   ],
   "source": [
    "df.columns"
   ]
  },
  {
   "cell_type": "code",
   "execution_count": 79,
   "id": "2698b1e0",
   "metadata": {},
   "outputs": [],
   "source": [
    "req_col=['Slab Width', 'Slab Length', 'AL', 'B', 'C', 'CA', 'NB', 'CR', 'CU',\n",
    "       'MN', 'MO', 'N', 'NI', 'P', 'S', 'SI', 'TI', 'V',\n",
    "       'Reheating Furnace Exit Temp', 'Finishing Temp', 'Coiling Temp',\n",
    "       'FM Exit Thickness', 'Coil Outr Dia', 'Avg line speed', 'weld pressure',\n",
    "       'Reduction Ratio', 'ACL-Thickness', 'ACL-Width', 'ACL-Length',\n",
    "       'O2 in Heating Element Furnace', 'Radiant Tube Furnace Dewpoint',\n",
    "       'After Tube Cooling Dewpoint', 'Rapid Jet Cooling Dewpoint',\n",
    "       'Coating Thickness', 'Drying Furnace Press', 'Permeability']"
   ]
  },
  {
   "cell_type": "code",
   "execution_count": 80,
   "id": "6b46a70e",
   "metadata": {},
   "outputs": [],
   "source": [
    "df=df[req_col]"
   ]
  },
  {
   "cell_type": "code",
   "execution_count": 81,
   "id": "6a2f265e",
   "metadata": {},
   "outputs": [],
   "source": [
    "X=df[['Slab Width', 'Slab Length', 'AL', 'B', 'C', 'CA', 'NB', 'CR', 'CU',\n",
    "       'MN', 'MO', 'N', 'NI', 'P', 'S', 'SI', 'TI', 'V',\n",
    "       'Reheating Furnace Exit Temp', 'Finishing Temp', 'Coiling Temp',\n",
    "       'FM Exit Thickness', 'Coil Outr Dia', 'Avg line speed', 'weld pressure',\n",
    "       'Reduction Ratio', 'ACL-Thickness', 'ACL-Width', 'ACL-Length',\n",
    "       'O2 in Heating Element Furnace', 'Radiant Tube Furnace Dewpoint',\n",
    "       'After Tube Cooling Dewpoint', 'Rapid Jet Cooling Dewpoint',\n",
    "       'Coating Thickness', 'Drying Furnace Press']]\n",
    "y=df['Permeability']"
   ]
  },
  {
   "cell_type": "code",
   "execution_count": 82,
   "id": "5860d609",
   "metadata": {},
   "outputs": [],
   "source": [
    "from sklearn.model_selection import train_test_split\n",
    "X_train,X_test,y_train,y_test=train_test_split(X,y,test_size=0.2)"
   ]
  },
  {
   "cell_type": "code",
   "execution_count": 83,
   "id": "1901d178",
   "metadata": {},
   "outputs": [],
   "source": [
    "reg=linear_model.LinearRegression()"
   ]
  },
  {
   "cell_type": "code",
   "execution_count": 85,
   "id": "ba0c7e12",
   "metadata": {},
   "outputs": [
    {
     "data": {
      "text/plain": [
       "LinearRegression()"
      ]
     },
     "execution_count": 85,
     "metadata": {},
     "output_type": "execute_result"
    }
   ],
   "source": [
    "reg.fit(X_train,y_train)"
   ]
  },
  {
   "cell_type": "code",
   "execution_count": 86,
   "id": "a6b9e88c",
   "metadata": {},
   "outputs": [
    {
     "data": {
      "text/plain": [
       "0.7532335757696832"
      ]
     },
     "execution_count": 86,
     "metadata": {},
     "output_type": "execute_result"
    }
   ],
   "source": [
    "reg.score(X_test,y_test)"
   ]
  },
  {
   "cell_type": "code",
   "execution_count": null,
   "id": "7083fa67",
   "metadata": {},
   "outputs": [],
   "source": []
  }
 ],
 "metadata": {
  "kernelspec": {
   "display_name": "Python 3",
   "language": "python",
   "name": "python3"
  },
  "language_info": {
   "codemirror_mode": {
    "name": "ipython",
    "version": 3
   },
   "file_extension": ".py",
   "mimetype": "text/x-python",
   "name": "python",
   "nbconvert_exporter": "python",
   "pygments_lexer": "ipython3",
   "version": "3.8.8"
  }
 },
 "nbformat": 4,
 "nbformat_minor": 5
}
