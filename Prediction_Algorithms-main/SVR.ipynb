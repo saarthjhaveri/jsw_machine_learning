{
 "cells": [
  {
   "cell_type": "code",
   "execution_count": 4,
   "id": "afcb8e30",
   "metadata": {},
   "outputs": [],
   "source": [
    "#support vector regressor \n",
    "import numpy as np\n",
    "import pandas as pd\n",
    "from sklearn.model_selection import train_test_split\n",
    "from sklearn.svm import SVR\n",
    "from sklearn.metrics import r2_score,mean_squared_error\n",
    "import seaborn as sns\n",
    "import matplotlib.pyplot as plt"
   ]
  },
  {
   "cell_type": "code",
   "execution_count": 5,
   "id": "2bd17690",
   "metadata": {},
   "outputs": [
    {
     "name": "stdout",
     "output_type": "stream",
     "text": [
      "(5831, 40)\n"
     ]
    },
    {
     "data": {
      "text/html": [
       "<div>\n",
       "<style scoped>\n",
       "    .dataframe tbody tr th:only-of-type {\n",
       "        vertical-align: middle;\n",
       "    }\n",
       "\n",
       "    .dataframe tbody tr th {\n",
       "        vertical-align: top;\n",
       "    }\n",
       "\n",
       "    .dataframe thead th {\n",
       "        text-align: right;\n",
       "    }\n",
       "</style>\n",
       "<table border=\"1\" class=\"dataframe\">\n",
       "  <thead>\n",
       "    <tr style=\"text-align: right;\">\n",
       "      <th></th>\n",
       "      <th>Slab Width</th>\n",
       "      <th>Slab Length</th>\n",
       "      <th>AL</th>\n",
       "      <th>B</th>\n",
       "      <th>C</th>\n",
       "      <th>CA</th>\n",
       "      <th>NB</th>\n",
       "      <th>CR</th>\n",
       "      <th>CU</th>\n",
       "      <th>MN</th>\n",
       "      <th>...</th>\n",
       "      <th>Radiant Tube Furnace Dewpoint</th>\n",
       "      <th>After Tube Cooling Dewpoint</th>\n",
       "      <th>Rapid Jet Cooling Dewpoint</th>\n",
       "      <th>Coating Thickness</th>\n",
       "      <th>Drying Furnace Press</th>\n",
       "      <th>B50</th>\n",
       "      <th>Hardness</th>\n",
       "      <th>Coreloss-Before Aging</th>\n",
       "      <th>Coreloss After Aging</th>\n",
       "      <th>Permeability</th>\n",
       "    </tr>\n",
       "  </thead>\n",
       "  <tbody>\n",
       "    <tr>\n",
       "      <th>0</th>\n",
       "      <td>1265.0</td>\n",
       "      <td>9730.0</td>\n",
       "      <td>0.002</td>\n",
       "      <td>0.0001</td>\n",
       "      <td>0.0012</td>\n",
       "      <td>0.0002</td>\n",
       "      <td>0.0002</td>\n",
       "      <td>0.026</td>\n",
       "      <td>0.006</td>\n",
       "      <td>0.21</td>\n",
       "      <td>...</td>\n",
       "      <td>-18.500</td>\n",
       "      <td>-26.132</td>\n",
       "      <td>-18.20668</td>\n",
       "      <td>1.50</td>\n",
       "      <td>-6.026</td>\n",
       "      <td>1.73</td>\n",
       "      <td>128.0</td>\n",
       "      <td>5.70</td>\n",
       "      <td>5.74</td>\n",
       "      <td>1963.0</td>\n",
       "    </tr>\n",
       "    <tr>\n",
       "      <th>1</th>\n",
       "      <td>1265.0</td>\n",
       "      <td>9730.0</td>\n",
       "      <td>0.001</td>\n",
       "      <td>0.0001</td>\n",
       "      <td>0.0016</td>\n",
       "      <td>0.0001</td>\n",
       "      <td>0.0002</td>\n",
       "      <td>0.031</td>\n",
       "      <td>0.006</td>\n",
       "      <td>0.20</td>\n",
       "      <td>...</td>\n",
       "      <td>-99.000</td>\n",
       "      <td>-99.000</td>\n",
       "      <td>-98.99991</td>\n",
       "      <td>1.55</td>\n",
       "      <td>-6.324</td>\n",
       "      <td>1.73</td>\n",
       "      <td>120.0</td>\n",
       "      <td>5.92</td>\n",
       "      <td>5.92</td>\n",
       "      <td>1921.0</td>\n",
       "    </tr>\n",
       "    <tr>\n",
       "      <th>2</th>\n",
       "      <td>1265.0</td>\n",
       "      <td>7810.0</td>\n",
       "      <td>0.002</td>\n",
       "      <td>0.0001</td>\n",
       "      <td>0.0012</td>\n",
       "      <td>0.0002</td>\n",
       "      <td>0.0002</td>\n",
       "      <td>0.026</td>\n",
       "      <td>0.006</td>\n",
       "      <td>0.21</td>\n",
       "      <td>...</td>\n",
       "      <td>-25.112</td>\n",
       "      <td>-23.253</td>\n",
       "      <td>-12.16960</td>\n",
       "      <td>1.48</td>\n",
       "      <td>-6.512</td>\n",
       "      <td>1.72</td>\n",
       "      <td>124.0</td>\n",
       "      <td>5.15</td>\n",
       "      <td>5.15</td>\n",
       "      <td>1853.0</td>\n",
       "    </tr>\n",
       "    <tr>\n",
       "      <th>3</th>\n",
       "      <td>1265.0</td>\n",
       "      <td>9730.0</td>\n",
       "      <td>0.001</td>\n",
       "      <td>0.0001</td>\n",
       "      <td>0.0016</td>\n",
       "      <td>0.0001</td>\n",
       "      <td>0.0002</td>\n",
       "      <td>0.031</td>\n",
       "      <td>0.006</td>\n",
       "      <td>0.20</td>\n",
       "      <td>...</td>\n",
       "      <td>-23.525</td>\n",
       "      <td>-27.873</td>\n",
       "      <td>-12.54678</td>\n",
       "      <td>1.41</td>\n",
       "      <td>-6.806</td>\n",
       "      <td>1.74</td>\n",
       "      <td>121.0</td>\n",
       "      <td>5.42</td>\n",
       "      <td>5.47</td>\n",
       "      <td>2071.0</td>\n",
       "    </tr>\n",
       "    <tr>\n",
       "      <th>4</th>\n",
       "      <td>1265.0</td>\n",
       "      <td>9730.0</td>\n",
       "      <td>0.001</td>\n",
       "      <td>0.0001</td>\n",
       "      <td>0.0016</td>\n",
       "      <td>0.0001</td>\n",
       "      <td>0.0002</td>\n",
       "      <td>0.031</td>\n",
       "      <td>0.006</td>\n",
       "      <td>0.20</td>\n",
       "      <td>...</td>\n",
       "      <td>-19.758</td>\n",
       "      <td>-25.796</td>\n",
       "      <td>-16.47658</td>\n",
       "      <td>1.37</td>\n",
       "      <td>-6.831</td>\n",
       "      <td>1.72</td>\n",
       "      <td>122.0</td>\n",
       "      <td>5.38</td>\n",
       "      <td>5.40</td>\n",
       "      <td>1747.0</td>\n",
       "    </tr>\n",
       "  </tbody>\n",
       "</table>\n",
       "<p>5 rows × 40 columns</p>\n",
       "</div>"
      ],
      "text/plain": [
       "   Slab Width  Slab Length     AL       B       C      CA      NB     CR  \\\n",
       "0      1265.0       9730.0  0.002  0.0001  0.0012  0.0002  0.0002  0.026   \n",
       "1      1265.0       9730.0  0.001  0.0001  0.0016  0.0001  0.0002  0.031   \n",
       "2      1265.0       7810.0  0.002  0.0001  0.0012  0.0002  0.0002  0.026   \n",
       "3      1265.0       9730.0  0.001  0.0001  0.0016  0.0001  0.0002  0.031   \n",
       "4      1265.0       9730.0  0.001  0.0001  0.0016  0.0001  0.0002  0.031   \n",
       "\n",
       "      CU    MN  ...  Radiant Tube Furnace Dewpoint  \\\n",
       "0  0.006  0.21  ...                        -18.500   \n",
       "1  0.006  0.20  ...                        -99.000   \n",
       "2  0.006  0.21  ...                        -25.112   \n",
       "3  0.006  0.20  ...                        -23.525   \n",
       "4  0.006  0.20  ...                        -19.758   \n",
       "\n",
       "   After Tube Cooling Dewpoint  Rapid Jet Cooling Dewpoint  Coating Thickness  \\\n",
       "0                      -26.132                   -18.20668               1.50   \n",
       "1                      -99.000                   -98.99991               1.55   \n",
       "2                      -23.253                   -12.16960               1.48   \n",
       "3                      -27.873                   -12.54678               1.41   \n",
       "4                      -25.796                   -16.47658               1.37   \n",
       "\n",
       "   Drying Furnace Press   B50  Hardness  Coreloss-Before Aging  \\\n",
       "0                -6.026  1.73     128.0                   5.70   \n",
       "1                -6.324  1.73     120.0                   5.92   \n",
       "2                -6.512  1.72     124.0                   5.15   \n",
       "3                -6.806  1.74     121.0                   5.42   \n",
       "4                -6.831  1.72     122.0                   5.38   \n",
       "\n",
       "   Coreloss After Aging  Permeability  \n",
       "0                  5.74        1963.0  \n",
       "1                  5.92        1921.0  \n",
       "2                  5.15        1853.0  \n",
       "3                  5.47        2071.0  \n",
       "4                  5.40        1747.0  \n",
       "\n",
       "[5 rows x 40 columns]"
      ]
     },
     "execution_count": 5,
     "metadata": {},
     "output_type": "execute_result"
    }
   ],
   "source": [
    "train = pd.read_csv(\"/Users/Saarth/Desktop/PS1/final_data.csv\")\n",
    "print(train.shape)\n",
    "train.head()"
   ]
  },
  {
   "cell_type": "code",
   "execution_count": 6,
   "id": "f5673987",
   "metadata": {},
   "outputs": [
    {
     "name": "stdout",
     "output_type": "stream",
     "text": [
      "      Slab Width  Slab Length     AL       B       C      CA      NB     CR  \\\n",
      "0         1265.0       9730.0  0.002  0.0001  0.0012  0.0002  0.0002  0.026   \n",
      "1         1265.0       9730.0  0.001  0.0001  0.0016  0.0001  0.0002  0.031   \n",
      "2         1265.0       7810.0  0.002  0.0001  0.0012  0.0002  0.0002  0.026   \n",
      "3         1265.0       9730.0  0.001  0.0001  0.0016  0.0001  0.0002  0.031   \n",
      "4         1265.0       9730.0  0.001  0.0001  0.0016  0.0001  0.0002  0.031   \n",
      "...          ...          ...    ...     ...     ...     ...     ...    ...   \n",
      "5826      1290.0       9500.0  0.218  0.0001  0.0023  0.0010  0.0002  0.020   \n",
      "5827      1290.0       9500.0  0.218  0.0001  0.0023  0.0010  0.0002  0.020   \n",
      "5828      1290.0       9450.0  0.239  0.0002  0.0019  0.0010  0.0003  0.020   \n",
      "5829      1290.0       9500.0  0.239  0.0002  0.0019  0.0010  0.0003  0.020   \n",
      "5830      1290.0       9500.0  0.237  0.0002  0.0022  0.0010  0.0002  0.020   \n",
      "\n",
      "         CU    MN  ...  Reduction Ratio  ACL-Thickness  ACL-Width  ACL-Length  \\\n",
      "0     0.006  0.21  ...         0.820789            0.5     1185.0    4109.095   \n",
      "1     0.006  0.20  ...         0.821429            0.5     1185.0    1354.476   \n",
      "2     0.006  0.21  ...         0.821429            0.5     1183.0    1133.707   \n",
      "3     0.006  0.20  ...         0.821429            0.5     1183.0    1208.199   \n",
      "4     0.006  0.20  ...         0.821429            0.5     1183.0    1518.756   \n",
      "...     ...   ...  ...              ...            ...        ...         ...   \n",
      "5826  0.008  0.25  ...         0.814815            0.5     1200.0    1348.818   \n",
      "5827  0.008  0.25  ...         0.814815            0.5     1200.0    1336.943   \n",
      "5828  0.007  0.25  ...         0.814815            0.5     1200.0    1381.668   \n",
      "5829  0.007  0.25  ...         0.814815            0.5     1200.0     997.138   \n",
      "5830  0.008  0.22  ...         0.814815            0.5     1200.0    1008.365   \n",
      "\n",
      "      O2 in Heating Element Furnace  Radiant Tube Furnace Dewpoint  \\\n",
      "0                          1.233450                        -18.500   \n",
      "1                          1.228172                        -99.000   \n",
      "2                          1.240963                        -25.112   \n",
      "3                          1.211724                        -23.525   \n",
      "4                          1.225437                        -19.758   \n",
      "...                             ...                            ...   \n",
      "5826                       1.225152                        -27.491   \n",
      "5827                       1.213126                        -25.140   \n",
      "5828                       1.220170                        -24.734   \n",
      "5829                       1.232875                        -22.910   \n",
      "5830                       1.263232                        -23.503   \n",
      "\n",
      "      After Tube Cooling Dewpoint  Rapid Jet Cooling Dewpoint  \\\n",
      "0                         -26.132                   -18.20668   \n",
      "1                         -99.000                   -98.99991   \n",
      "2                         -23.253                   -12.16960   \n",
      "3                         -27.873                   -12.54678   \n",
      "4                         -25.796                   -16.47658   \n",
      "...                           ...                         ...   \n",
      "5826                      -39.960                   -25.20747   \n",
      "5827                      -39.960                   -27.73570   \n",
      "5828                      -39.960                   -27.84573   \n",
      "5829                      -39.869                   -26.40567   \n",
      "5830                      -39.960                   -26.17408   \n",
      "\n",
      "      Coating Thickness  Drying Furnace Press  \n",
      "0                  1.50                -6.026  \n",
      "1                  1.55                -6.324  \n",
      "2                  1.48                -6.512  \n",
      "3                  1.41                -6.806  \n",
      "4                  1.37                -6.831  \n",
      "...                 ...                   ...  \n",
      "5826               0.77                -6.175  \n",
      "5827               0.79                -6.502  \n",
      "5828               0.77                -6.484  \n",
      "5829               0.79                -6.631  \n",
      "5830               0.85                -6.305  \n",
      "\n",
      "[5831 rows x 35 columns]\n"
     ]
    }
   ],
   "source": [
    "X= train[['Slab Width', 'Slab Length', 'AL', 'B', 'C', 'CA', 'NB', 'CR', 'CU',\n",
    "       'MN', 'MO', 'N', 'NI', 'P', 'S', 'SI', 'TI', 'V',\n",
    "       'Reheating Furnace Exit Temp', 'Finishing Temp', 'Coiling Temp',\n",
    "       'FM Exit Thickness', 'Coil Outr Dia', 'Avg line speed', 'weld pressure',\n",
    "       'Reduction Ratio', 'ACL-Thickness', 'ACL-Width', 'ACL-Length',\n",
    "       'O2 in Heating Element Furnace', 'Radiant Tube Furnace Dewpoint',\n",
    "       'After Tube Cooling Dewpoint', 'Rapid Jet Cooling Dewpoint',\n",
    "       'Coating Thickness', 'Drying Furnace Press']]\n",
    "\n",
    "print(X)"
   ]
  },
  {
   "cell_type": "code",
   "execution_count": 7,
   "id": "bf6ea166",
   "metadata": {},
   "outputs": [
    {
     "name": "stdout",
     "output_type": "stream",
     "text": [
      "      Permeability\n",
      "0           1963.0\n",
      "1           1921.0\n",
      "2           1853.0\n",
      "3           2071.0\n",
      "4           1747.0\n",
      "...            ...\n",
      "5826        1809.0\n",
      "5827        1838.0\n",
      "5828        1820.0\n",
      "5829        1820.0\n",
      "5830        1906.0\n",
      "\n",
      "[5831 rows x 1 columns]\n"
     ]
    }
   ],
   "source": [
    "y=train[['Permeability']]\n",
    "print(y)"
   ]
  },
  {
   "cell_type": "code",
   "execution_count": 8,
   "id": "cbcf3deb",
   "metadata": {},
   "outputs": [],
   "source": [
    "from sklearn.model_selection import train_test_split\n",
    "X_train, X_test, y_train, y_test = train_test_split(X, y, test_size = 0.20,random_state=0)"
   ]
  },
  {
   "cell_type": "code",
   "execution_count": 9,
   "id": "5499d87b",
   "metadata": {},
   "outputs": [
    {
     "data": {
      "text/plain": [
       "SVR()"
      ]
     },
     "execution_count": 9,
     "metadata": {},
     "output_type": "execute_result"
    }
   ],
   "source": [
    "svr= SVR()\n",
    "svr.fit(X_train,y_train.values.ravel())"
   ]
  },
  {
   "cell_type": "code",
   "execution_count": 10,
   "id": "6c954640",
   "metadata": {},
   "outputs": [
    {
     "data": {
      "text/plain": [
       "array([1827.65132472, 1791.20260193, 1835.95121756, ..., 1827.15337577,\n",
       "       1816.58543672, 1826.66941215])"
      ]
     },
     "execution_count": 10,
     "metadata": {},
     "output_type": "execute_result"
    }
   ],
   "source": [
    "y_pred=svr.predict(X_test)\n",
    "y_pred"
   ]
  },
  {
   "cell_type": "code",
   "execution_count": 11,
   "id": "171087c0",
   "metadata": {},
   "outputs": [
    {
     "data": {
      "text/plain": [
       "412.48225915998376"
      ]
     },
     "execution_count": 11,
     "metadata": {},
     "output_type": "execute_result"
    }
   ],
   "source": [
    "mse= mean_squared_error(y_test,y_pred)\n",
    "rmse=np.sqrt(mse)\n",
    "rmse"
   ]
  },
  {
   "cell_type": "code",
   "execution_count": 12,
   "id": "1954fa07",
   "metadata": {},
   "outputs": [
    {
     "name": "stdout",
     "output_type": "stream",
     "text": [
      "r1 -0.022857396799815577\n"
     ]
    }
   ],
   "source": [
    "from sklearn.metrics import r2_score\n",
    "r1=r2_score(y_test,y_pred)\n",
    "print('r1',r1)"
   ]
  },
  {
   "cell_type": "code",
   "execution_count": 13,
   "id": "41b5b9d5",
   "metadata": {},
   "outputs": [
    {
     "data": {
      "text/plain": [
       "<matplotlib.collections.PathCollection at 0x7f7fe8498490>"
      ]
     },
     "execution_count": 13,
     "metadata": {},
     "output_type": "execute_result"
    },
    {
     "data": {
      "image/png": "[encoded data removed]",
      "text/plain": [
       "<Figure size 432x288 with 1 Axes>"
      ]
     },
     "metadata": {
      "needs_background": "light"
     },
     "output_type": "display_data"
    }
   ],
   "source": [
    "plt.scatter(y_pred,y_test)"
   ]
  },
  {
   "cell_type": "code",
   "execution_count": null,
   "id": "279d01f9",
   "metadata": {},
   "outputs": [],
   "source": []
  },
  {
   "cell_type": "code",
   "execution_count": null,
   "id": "bb7c7f25",
   "metadata": {},
   "outputs": [],
   "source": []
  }
 ],
 "metadata": {
  "kernelspec": {
   "display_name": "Python 3",
   "language": "python",
   "name": "python3"
  },
  "language_info": {
   "codemirror_mode": {
    "name": "ipython",
    "version": 3
   },
   "file_extension": ".py",
   "mimetype": "text/x-python",
   "name": "python",
   "nbconvert_exporter": "python",
   "pygments_lexer": "ipython3",
   "version": "3.8.8"
  }
 },
 "nbformat": 4,
 "nbformat_minor": 5
}
