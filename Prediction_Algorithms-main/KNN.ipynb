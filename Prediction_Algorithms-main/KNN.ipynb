{
 "cells": [
  {
   "cell_type": "code",
   "execution_count": 1,
   "id": "77e9f8c8",
   "metadata": {},
   "outputs": [],
   "source": [
    "import pandas as pd"
   ]
  },
  {
   "cell_type": "code",
   "execution_count": null,
   "id": "ba64826a",
   "metadata": {},
   "outputs": [],
   "source": [
    "### B50"
   ]
  },
  {
   "cell_type": "code",
   "execution_count": 2,
   "id": "35e1fe6b",
   "metadata": {},
   "outputs": [],
   "source": [
    "df=pd.read_csv(\"data.csv\")"
   ]
  },
  {
   "cell_type": "code",
   "execution_count": 3,
   "id": "7565b531",
   "metadata": {},
   "outputs": [
    {
     "data": {
      "text/html": [
       "<div>\n",
       "<style scoped>\n",
       "    .dataframe tbody tr th:only-of-type {\n",
       "        vertical-align: middle;\n",
       "    }\n",
       "\n",
       "    .dataframe tbody tr th {\n",
       "        vertical-align: top;\n",
       "    }\n",
       "\n",
       "    .dataframe thead th {\n",
       "        text-align: right;\n",
       "    }\n",
       "</style>\n",
       "<table border=\"1\" class=\"dataframe\">\n",
       "  <thead>\n",
       "    <tr style=\"text-align: right;\">\n",
       "      <th></th>\n",
       "      <th>Slab Width</th>\n",
       "      <th>Slab Length</th>\n",
       "      <th>AL</th>\n",
       "      <th>B</th>\n",
       "      <th>C</th>\n",
       "      <th>CA</th>\n",
       "      <th>NB</th>\n",
       "      <th>CR</th>\n",
       "      <th>CU</th>\n",
       "      <th>MN</th>\n",
       "      <th>...</th>\n",
       "      <th>Heating Element Furnace Press</th>\n",
       "      <th>Soaking Zone Press</th>\n",
       "      <th>After Tube Cooling Press</th>\n",
       "      <th>Drying Furnace Press</th>\n",
       "      <th>Rapid Jet Cooling Press</th>\n",
       "      <th>B50</th>\n",
       "      <th>Hardness</th>\n",
       "      <th>Coreloss-Before Aging</th>\n",
       "      <th>Coreloss After Aging</th>\n",
       "      <th>Permeability</th>\n",
       "    </tr>\n",
       "  </thead>\n",
       "  <tbody>\n",
       "    <tr>\n",
       "      <th>0</th>\n",
       "      <td>1265.0</td>\n",
       "      <td>9730.0</td>\n",
       "      <td>0.002</td>\n",
       "      <td>0.0001</td>\n",
       "      <td>0.0012</td>\n",
       "      <td>0.0002</td>\n",
       "      <td>0.0002</td>\n",
       "      <td>0.026</td>\n",
       "      <td>0.006</td>\n",
       "      <td>0.21</td>\n",
       "      <td>...</td>\n",
       "      <td>94.33479</td>\n",
       "      <td>93.19106</td>\n",
       "      <td>93.19106</td>\n",
       "      <td>-6.026</td>\n",
       "      <td>111.2235</td>\n",
       "      <td>1.73</td>\n",
       "      <td>128.0</td>\n",
       "      <td>5.70</td>\n",
       "      <td>5.74</td>\n",
       "      <td>1963.0</td>\n",
       "    </tr>\n",
       "    <tr>\n",
       "      <th>1</th>\n",
       "      <td>1265.0</td>\n",
       "      <td>9730.0</td>\n",
       "      <td>0.001</td>\n",
       "      <td>0.0001</td>\n",
       "      <td>0.0016</td>\n",
       "      <td>0.0001</td>\n",
       "      <td>0.0002</td>\n",
       "      <td>0.031</td>\n",
       "      <td>0.006</td>\n",
       "      <td>0.20</td>\n",
       "      <td>...</td>\n",
       "      <td>93.57465</td>\n",
       "      <td>92.34710</td>\n",
       "      <td>92.34710</td>\n",
       "      <td>-6.324</td>\n",
       "      <td>109.0648</td>\n",
       "      <td>1.73</td>\n",
       "      <td>120.0</td>\n",
       "      <td>5.92</td>\n",
       "      <td>5.92</td>\n",
       "      <td>1921.0</td>\n",
       "    </tr>\n",
       "    <tr>\n",
       "      <th>2</th>\n",
       "      <td>1265.0</td>\n",
       "      <td>7810.0</td>\n",
       "      <td>0.002</td>\n",
       "      <td>0.0001</td>\n",
       "      <td>0.0012</td>\n",
       "      <td>0.0002</td>\n",
       "      <td>0.0002</td>\n",
       "      <td>0.026</td>\n",
       "      <td>0.006</td>\n",
       "      <td>0.21</td>\n",
       "      <td>...</td>\n",
       "      <td>94.71528</td>\n",
       "      <td>93.69179</td>\n",
       "      <td>93.69179</td>\n",
       "      <td>-6.512</td>\n",
       "      <td>109.1558</td>\n",
       "      <td>1.72</td>\n",
       "      <td>124.0</td>\n",
       "      <td>5.15</td>\n",
       "      <td>5.15</td>\n",
       "      <td>1853.0</td>\n",
       "    </tr>\n",
       "    <tr>\n",
       "      <th>3</th>\n",
       "      <td>1265.0</td>\n",
       "      <td>9730.0</td>\n",
       "      <td>0.001</td>\n",
       "      <td>0.0001</td>\n",
       "      <td>0.0016</td>\n",
       "      <td>0.0001</td>\n",
       "      <td>0.0002</td>\n",
       "      <td>0.031</td>\n",
       "      <td>0.006</td>\n",
       "      <td>0.20</td>\n",
       "      <td>...</td>\n",
       "      <td>94.13034</td>\n",
       "      <td>93.19066</td>\n",
       "      <td>93.19066</td>\n",
       "      <td>-6.806</td>\n",
       "      <td>109.6932</td>\n",
       "      <td>1.74</td>\n",
       "      <td>121.0</td>\n",
       "      <td>5.42</td>\n",
       "      <td>5.47</td>\n",
       "      <td>2071.0</td>\n",
       "    </tr>\n",
       "    <tr>\n",
       "      <th>4</th>\n",
       "      <td>1265.0</td>\n",
       "      <td>9730.0</td>\n",
       "      <td>0.001</td>\n",
       "      <td>0.0001</td>\n",
       "      <td>0.0016</td>\n",
       "      <td>0.0001</td>\n",
       "      <td>0.0002</td>\n",
       "      <td>0.031</td>\n",
       "      <td>0.006</td>\n",
       "      <td>0.20</td>\n",
       "      <td>...</td>\n",
       "      <td>94.59740</td>\n",
       "      <td>94.04372</td>\n",
       "      <td>94.04372</td>\n",
       "      <td>-6.831</td>\n",
       "      <td>110.3683</td>\n",
       "      <td>1.72</td>\n",
       "      <td>122.0</td>\n",
       "      <td>5.38</td>\n",
       "      <td>5.40</td>\n",
       "      <td>1747.0</td>\n",
       "    </tr>\n",
       "  </tbody>\n",
       "</table>\n",
       "<p>5 rows × 59 columns</p>\n",
       "</div>"
      ],
      "text/plain": [
       "   Slab Width  Slab Length     AL       B       C      CA      NB     CR  \\\n",
       "0      1265.0       9730.0  0.002  0.0001  0.0012  0.0002  0.0002  0.026   \n",
       "1      1265.0       9730.0  0.001  0.0001  0.0016  0.0001  0.0002  0.031   \n",
       "2      1265.0       7810.0  0.002  0.0001  0.0012  0.0002  0.0002  0.026   \n",
       "3      1265.0       9730.0  0.001  0.0001  0.0016  0.0001  0.0002  0.031   \n",
       "4      1265.0       9730.0  0.001  0.0001  0.0016  0.0001  0.0002  0.031   \n",
       "\n",
       "      CU    MN  ...  Heating Element Furnace Press   Soaking Zone Press  \\\n",
       "0  0.006  0.21  ...                        94.33479            93.19106   \n",
       "1  0.006  0.20  ...                        93.57465            92.34710   \n",
       "2  0.006  0.21  ...                        94.71528            93.69179   \n",
       "3  0.006  0.20  ...                        94.13034            93.19066   \n",
       "4  0.006  0.20  ...                        94.59740            94.04372   \n",
       "\n",
       "   After Tube Cooling Press  Drying Furnace Press  Rapid Jet Cooling Press  \\\n",
       "0                  93.19106                -6.026                 111.2235   \n",
       "1                  92.34710                -6.324                 109.0648   \n",
       "2                  93.69179                -6.512                 109.1558   \n",
       "3                  93.19066                -6.806                 109.6932   \n",
       "4                  94.04372                -6.831                 110.3683   \n",
       "\n",
       "    B50  Hardness  Coreloss-Before Aging  Coreloss After Aging  Permeability  \n",
       "0  1.73     128.0                   5.70                  5.74        1963.0  \n",
       "1  1.73     120.0                   5.92                  5.92        1921.0  \n",
       "2  1.72     124.0                   5.15                  5.15        1853.0  \n",
       "3  1.74     121.0                   5.42                  5.47        2071.0  \n",
       "4  1.72     122.0                   5.38                  5.40        1747.0  \n",
       "\n",
       "[5 rows x 59 columns]"
      ]
     },
     "execution_count": 3,
     "metadata": {},
     "output_type": "execute_result"
    }
   ],
   "source": [
    "df.head(5)"
   ]
  },
  {
   "cell_type": "code",
   "execution_count": 4,
   "id": "4d5be909",
   "metadata": {},
   "outputs": [
    {
     "data": {
      "text/plain": [
       "Index(['Slab Width', 'Slab Length', 'AL', 'B', 'C', 'CA', 'NB', 'CR', 'CU',\n",
       "       'MN', 'MO', 'N', 'NI', 'P', 'S', 'SI', 'TI', 'V',\n",
       "       'Reheating Furnace Exit Temp', 'Finishing Temp', 'Coiling Temp',\n",
       "       'FM Exit Thickness', 'Coil Outr Dia', 'Avg line speed', 'weld current',\n",
       "       'weld pressure', 'Reduction Ratio', 'ACL-Thickness', 'ACL-Width',\n",
       "       'ACL-Length', 'Heating Element Furnace Temp', 'Soaking Zone Temp',\n",
       "       'Exit Seal Temp', 'O2 in Heating Element Furnace',\n",
       "       'Heating Element Furnace Dewpoint', 'Baking Furnace Temp',\n",
       "       'Radiant Tube Furnace Dewpoint', 'After Tube Cooling Dewpoint',\n",
       "       'Rapid Jet Cooling Dewpoint', 'Slow Jet Cooling Dewpoint',\n",
       "       'Entry Looper Tension', 'Exit Looper Tension', 'Furnce Entry Tension',\n",
       "       'Furnace Exit Tension', 'Coating Thickness', 'Insulation Resistivity',\n",
       "       'Uncoiler Tension', 'Recoiler Tension', 'Radiant Tube Furnace Press',\n",
       "       'Heating Element Furnace Press ', 'Soaking Zone Press',\n",
       "       'After Tube Cooling Press', 'Drying Furnace Press',\n",
       "       'Rapid Jet Cooling Press', 'B50', 'Hardness', 'Coreloss-Before Aging',\n",
       "       'Coreloss After Aging', 'Permeability'],\n",
       "      dtype='object')"
      ]
     },
     "execution_count": 4,
     "metadata": {},
     "output_type": "execute_result"
    }
   ],
   "source": [
    "df.columns"
   ]
  },
  {
   "cell_type": "code",
   "execution_count": 5,
   "id": "7ca5870f",
   "metadata": {},
   "outputs": [],
   "source": [
    "drop_col=['Hardness', 'Coreloss-Before Aging','Coreloss After Aging', 'Permeability']"
   ]
  },
  {
   "cell_type": "code",
   "execution_count": 6,
   "id": "17db50f2",
   "metadata": {},
   "outputs": [],
   "source": [
    "df=df.drop(columns=drop_col)"
   ]
  },
  {
   "cell_type": "code",
   "execution_count": 7,
   "id": "73e8cc18",
   "metadata": {},
   "outputs": [
    {
     "data": {
      "text/plain": [
       "Index(['Slab Width', 'Slab Length', 'AL', 'B', 'C', 'CA', 'NB', 'CR', 'CU',\n",
       "       'MN', 'MO', 'N', 'NI', 'P', 'S', 'SI', 'TI', 'V',\n",
       "       'Reheating Furnace Exit Temp', 'Finishing Temp', 'Coiling Temp',\n",
       "       'FM Exit Thickness', 'Coil Outr Dia', 'Avg line speed', 'weld current',\n",
       "       'weld pressure', 'Reduction Ratio', 'ACL-Thickness', 'ACL-Width',\n",
       "       'ACL-Length', 'Heating Element Furnace Temp', 'Soaking Zone Temp',\n",
       "       'Exit Seal Temp', 'O2 in Heating Element Furnace',\n",
       "       'Heating Element Furnace Dewpoint', 'Baking Furnace Temp',\n",
       "       'Radiant Tube Furnace Dewpoint', 'After Tube Cooling Dewpoint',\n",
       "       'Rapid Jet Cooling Dewpoint', 'Slow Jet Cooling Dewpoint',\n",
       "       'Entry Looper Tension', 'Exit Looper Tension', 'Furnce Entry Tension',\n",
       "       'Furnace Exit Tension', 'Coating Thickness', 'Insulation Resistivity',\n",
       "       'Uncoiler Tension', 'Recoiler Tension', 'Radiant Tube Furnace Press',\n",
       "       'Heating Element Furnace Press ', 'Soaking Zone Press',\n",
       "       'After Tube Cooling Press', 'Drying Furnace Press',\n",
       "       'Rapid Jet Cooling Press', 'B50'],\n",
       "      dtype='object')"
      ]
     },
     "execution_count": 7,
     "metadata": {},
     "output_type": "execute_result"
    }
   ],
   "source": [
    "df.columns"
   ]
  },
  {
   "cell_type": "code",
   "execution_count": 16,
   "id": "fb0efdff",
   "metadata": {},
   "outputs": [],
   "source": [
    "y=df[['B50']]\n",
    "X=df[['Slab Width', 'Slab Length', 'AL', 'B', 'C', 'CA', 'NB', 'CR', 'CU',\n",
    "       'MN', 'MO', 'N', 'NI', 'P', 'S', 'SI', 'TI', 'V',\n",
    "       'Reheating Furnace Exit Temp', 'Finishing Temp', 'Coiling Temp',\n",
    "       'FM Exit Thickness', 'Coil Outr Dia', 'Avg line speed', 'weld current',\n",
    "       'weld pressure', 'Reduction Ratio', 'ACL-Thickness', 'ACL-Width',\n",
    "       'ACL-Length', 'Heating Element Furnace Temp', 'Soaking Zone Temp',\n",
    "       'Exit Seal Temp', 'O2 in Heating Element Furnace',\n",
    "       'Heating Element Furnace Dewpoint', 'Baking Furnace Temp',\n",
    "       'Radiant Tube Furnace Dewpoint', 'After Tube Cooling Dewpoint',\n",
    "       'Rapid Jet Cooling Dewpoint', 'Slow Jet Cooling Dewpoint',\n",
    "       'Entry Looper Tension', 'Exit Looper Tension', 'Furnce Entry Tension',\n",
    "       'Furnace Exit Tension', 'Coating Thickness', 'Insulation Resistivity',\n",
    "       'Uncoiler Tension', 'Recoiler Tension', 'Radiant Tube Furnace Press',\n",
    "       'Heating Element Furnace Press ', 'Soaking Zone Press',\n",
    "       'After Tube Cooling Press', 'Drying Furnace Press',\n",
    "       'Rapid Jet Cooling Press']]"
   ]
  },
  {
   "cell_type": "code",
   "execution_count": null,
   "id": "6300de7e",
   "metadata": {},
   "outputs": [],
   "source": []
  },
  {
   "cell_type": "code",
   "execution_count": 17,
   "id": "b835aa51",
   "metadata": {},
   "outputs": [],
   "source": [
    "from sklearn.model_selection import train_test_split\n",
    "X_train,X_test,y_train,y_test=train_test_split(X,y,test_size=0.2)"
   ]
  },
  {
   "cell_type": "code",
   "execution_count": 18,
   "id": "7b091cbc",
   "metadata": {},
   "outputs": [
    {
     "data": {
      "text/plain": [
       "(4176, 54)"
      ]
     },
     "execution_count": 18,
     "metadata": {},
     "output_type": "execute_result"
    }
   ],
   "source": [
    "X_train.shape"
   ]
  },
  {
   "cell_type": "code",
   "execution_count": 21,
   "id": "87b27018",
   "metadata": {},
   "outputs": [
    {
     "data": {
      "text/plain": [
       "(1045, 54)"
      ]
     },
     "execution_count": 21,
     "metadata": {},
     "output_type": "execute_result"
    }
   ],
   "source": [
    "X_test.shape"
   ]
  },
  {
   "cell_type": "code",
   "execution_count": 22,
   "id": "b88db684",
   "metadata": {},
   "outputs": [
    {
     "data": {
      "text/plain": [
       "(4176, 1)"
      ]
     },
     "execution_count": 22,
     "metadata": {},
     "output_type": "execute_result"
    }
   ],
   "source": [
    "y_train.shape"
   ]
  },
  {
   "cell_type": "code",
   "execution_count": 23,
   "id": "f1735b1a",
   "metadata": {},
   "outputs": [
    {
     "data": {
      "text/plain": [
       "(1045, 1)"
      ]
     },
     "execution_count": 23,
     "metadata": {},
     "output_type": "execute_result"
    }
   ],
   "source": [
    "y_test.shape"
   ]
  },
  {
   "cell_type": "code",
   "execution_count": 24,
   "id": "55268072",
   "metadata": {},
   "outputs": [],
   "source": [
    "from sklearn.neighbors import KNeighborsRegressor"
   ]
  },
  {
   "cell_type": "code",
   "execution_count": 35,
   "id": "09493200",
   "metadata": {},
   "outputs": [],
   "source": [
    "\n",
    "\n",
    "reg=KNeighborsRegressor(n_neighbors=5)"
   ]
  },
  {
   "cell_type": "code",
   "execution_count": 36,
   "id": "e82d9bf9",
   "metadata": {},
   "outputs": [
    {
     "data": {
      "text/plain": [
       "KNeighborsRegressor()"
      ]
     },
     "execution_count": 36,
     "metadata": {},
     "output_type": "execute_result"
    }
   ],
   "source": [
    "reg.fit(X_train,y_train)"
   ]
  },
  {
   "cell_type": "code",
   "execution_count": 37,
   "id": "107905e5",
   "metadata": {},
   "outputs": [
    {
     "data": {
      "text/plain": [
       "0.5631173788820014"
      ]
     },
     "execution_count": 37,
     "metadata": {},
     "output_type": "execute_result"
    }
   ],
   "source": [
    "reg.score(X_test,y_test)"
   ]
  },
  {
   "cell_type": "code",
   "execution_count": 38,
   "id": "12294d67",
   "metadata": {},
   "outputs": [],
   "source": [
    "### Hardness"
   ]
  },
  {
   "cell_type": "code",
   "execution_count": 39,
   "id": "ab207393",
   "metadata": {},
   "outputs": [],
   "source": [
    "df=pd.read_csv(\"data.csv\")"
   ]
  },
  {
   "cell_type": "code",
   "execution_count": 40,
   "id": "f85b5026",
   "metadata": {},
   "outputs": [
    {
     "data": {
      "text/plain": [
       "Index(['Slab Width', 'Slab Length', 'AL', 'B', 'C', 'CA', 'NB', 'CR', 'CU',\n",
       "       'MN', 'MO', 'N', 'NI', 'P', 'S', 'SI', 'TI', 'V',\n",
       "       'Reheating Furnace Exit Temp', 'Finishing Temp', 'Coiling Temp',\n",
       "       'FM Exit Thickness', 'Coil Outr Dia', 'Avg line speed', 'weld current',\n",
       "       'weld pressure', 'Reduction Ratio', 'ACL-Thickness', 'ACL-Width',\n",
       "       'ACL-Length', 'Heating Element Furnace Temp', 'Soaking Zone Temp',\n",
       "       'Exit Seal Temp', 'O2 in Heating Element Furnace',\n",
       "       'Heating Element Furnace Dewpoint', 'Baking Furnace Temp',\n",
       "       'Radiant Tube Furnace Dewpoint', 'After Tube Cooling Dewpoint',\n",
       "       'Rapid Jet Cooling Dewpoint', 'Slow Jet Cooling Dewpoint',\n",
       "       'Entry Looper Tension', 'Exit Looper Tension', 'Furnce Entry Tension',\n",
       "       'Furnace Exit Tension', 'Coating Thickness', 'Insulation Resistivity',\n",
       "       'Uncoiler Tension', 'Recoiler Tension', 'Radiant Tube Furnace Press',\n",
       "       'Heating Element Furnace Press ', 'Soaking Zone Press',\n",
       "       'After Tube Cooling Press', 'Drying Furnace Press',\n",
       "       'Rapid Jet Cooling Press', 'B50', 'Hardness', 'Coreloss-Before Aging',\n",
       "       'Coreloss After Aging', 'Permeability'],\n",
       "      dtype='object')"
      ]
     },
     "execution_count": 40,
     "metadata": {},
     "output_type": "execute_result"
    }
   ],
   "source": [
    "df.columns"
   ]
  },
  {
   "cell_type": "code",
   "execution_count": 41,
   "id": "4fb12dc6",
   "metadata": {},
   "outputs": [],
   "source": [
    "X=df[['Slab Width', 'Slab Length', 'AL', 'B', 'C', 'CA', 'NB', 'CR', 'CU',\n",
    "       'MN', 'MO', 'N', 'NI', 'P', 'S', 'SI', 'TI', 'V',\n",
    "       'Reheating Furnace Exit Temp', 'Finishing Temp', 'Coiling Temp',\n",
    "       'FM Exit Thickness', 'Coil Outr Dia', 'Avg line speed', 'weld current',\n",
    "       'weld pressure', 'Reduction Ratio', 'ACL-Thickness', 'ACL-Width',\n",
    "       'ACL-Length', 'Heating Element Furnace Temp', 'Soaking Zone Temp',\n",
    "       'Exit Seal Temp', 'O2 in Heating Element Furnace',\n",
    "       'Heating Element Furnace Dewpoint', 'Baking Furnace Temp',\n",
    "       'Radiant Tube Furnace Dewpoint', 'After Tube Cooling Dewpoint',\n",
    "       'Rapid Jet Cooling Dewpoint', 'Slow Jet Cooling Dewpoint',\n",
    "       'Entry Looper Tension', 'Exit Looper Tension', 'Furnce Entry Tension',\n",
    "       'Furnace Exit Tension', 'Coating Thickness', 'Insulation Resistivity',\n",
    "       'Uncoiler Tension', 'Recoiler Tension', 'Radiant Tube Furnace Press',\n",
    "       'Heating Element Furnace Press ', 'Soaking Zone Press',\n",
    "       'After Tube Cooling Press', 'Drying Furnace Press',\n",
    "       'Rapid Jet Cooling Press']]\n",
    "y=df[['Hardness']]"
   ]
  },
  {
   "cell_type": "code",
   "execution_count": 42,
   "id": "fdde3c7d",
   "metadata": {},
   "outputs": [],
   "source": [
    "from sklearn.model_selection import train_test_split\n",
    "X_train,X_test,y_train,y_test=train_test_split(X,y,test_size=0.2)"
   ]
  },
  {
   "cell_type": "code",
   "execution_count": 43,
   "id": "f0d870eb",
   "metadata": {},
   "outputs": [],
   "source": [
    "from sklearn.neighbors import KNeighborsRegressor"
   ]
  },
  {
   "cell_type": "code",
   "execution_count": 44,
   "id": "a7699b28",
   "metadata": {},
   "outputs": [],
   "source": [
    "reg=KNeighborsRegressor(n_neighbors=5)"
   ]
  },
  {
   "cell_type": "code",
   "execution_count": 45,
   "id": "3741d95d",
   "metadata": {},
   "outputs": [
    {
     "data": {
      "text/plain": [
       "KNeighborsRegressor()"
      ]
     },
     "execution_count": 45,
     "metadata": {},
     "output_type": "execute_result"
    }
   ],
   "source": [
    "reg.fit(X_train,y_train)"
   ]
  },
  {
   "cell_type": "code",
   "execution_count": 46,
   "id": "ea42e259",
   "metadata": {},
   "outputs": [
    {
     "data": {
      "text/plain": [
       "0.8217611601432984"
      ]
     },
     "execution_count": 46,
     "metadata": {},
     "output_type": "execute_result"
    }
   ],
   "source": [
    "reg.score(X_test,y_test)"
   ]
  },
  {
   "cell_type": "code",
   "execution_count": 47,
   "id": "0383c5ed",
   "metadata": {},
   "outputs": [],
   "source": [
    "### 'Coreloss-Before Aging'"
   ]
  },
  {
   "cell_type": "code",
   "execution_count": 48,
   "id": "074ef949",
   "metadata": {},
   "outputs": [],
   "source": [
    "df=pd.read_csv(\"data.csv\")"
   ]
  },
  {
   "cell_type": "code",
   "execution_count": 49,
   "id": "2b2b9397",
   "metadata": {},
   "outputs": [],
   "source": [
    "X=df[['Slab Width', 'Slab Length', 'AL', 'B', 'C', 'CA', 'NB', 'CR', 'CU',\n",
    "       'MN', 'MO', 'N', 'NI', 'P', 'S', 'SI', 'TI', 'V',\n",
    "       'Reheating Furnace Exit Temp', 'Finishing Temp', 'Coiling Temp',\n",
    "       'FM Exit Thickness', 'Coil Outr Dia', 'Avg line speed', 'weld current',\n",
    "       'weld pressure', 'Reduction Ratio', 'ACL-Thickness', 'ACL-Width',\n",
    "       'ACL-Length', 'Heating Element Furnace Temp', 'Soaking Zone Temp',\n",
    "       'Exit Seal Temp', 'O2 in Heating Element Furnace',\n",
    "       'Heating Element Furnace Dewpoint', 'Baking Furnace Temp',\n",
    "       'Radiant Tube Furnace Dewpoint', 'After Tube Cooling Dewpoint',\n",
    "       'Rapid Jet Cooling Dewpoint', 'Slow Jet Cooling Dewpoint',\n",
    "       'Entry Looper Tension', 'Exit Looper Tension', 'Furnce Entry Tension',\n",
    "       'Furnace Exit Tension', 'Coating Thickness', 'Insulation Resistivity',\n",
    "       'Uncoiler Tension', 'Recoiler Tension', 'Radiant Tube Furnace Press',\n",
    "       'Heating Element Furnace Press ', 'Soaking Zone Press',\n",
    "       'After Tube Cooling Press', 'Drying Furnace Press',\n",
    "       'Rapid Jet Cooling Press']]\n",
    "y=df[['Coreloss-Before Aging']]"
   ]
  },
  {
   "cell_type": "code",
   "execution_count": 50,
   "id": "8f5f3fff",
   "metadata": {},
   "outputs": [],
   "source": [
    "from sklearn.model_selection import train_test_split\n",
    "X_train,X_test,y_train,y_test=train_test_split(X,y,test_size=0.2)"
   ]
  },
  {
   "cell_type": "code",
   "execution_count": 51,
   "id": "446b40a5",
   "metadata": {},
   "outputs": [],
   "source": [
    "from sklearn.neighbors import KNeighborsRegressor"
   ]
  },
  {
   "cell_type": "code",
   "execution_count": 52,
   "id": "8607bc17",
   "metadata": {},
   "outputs": [],
   "source": [
    "reg=KNeighborsRegressor(n_neighbors=5)"
   ]
  },
  {
   "cell_type": "code",
   "execution_count": 53,
   "id": "a4228e40",
   "metadata": {},
   "outputs": [
    {
     "data": {
      "text/plain": [
       "KNeighborsRegressor()"
      ]
     },
     "execution_count": 53,
     "metadata": {},
     "output_type": "execute_result"
    }
   ],
   "source": [
    "reg.fit(X_train,y_train)"
   ]
  },
  {
   "cell_type": "code",
   "execution_count": 54,
   "id": "ea7928b1",
   "metadata": {},
   "outputs": [
    {
     "data": {
      "text/plain": [
       "0.7949565269633438"
      ]
     },
     "execution_count": 54,
     "metadata": {},
     "output_type": "execute_result"
    }
   ],
   "source": [
    "reg.score(X_test,y_test)"
   ]
  },
  {
   "cell_type": "code",
   "execution_count": 55,
   "id": "9061fab1",
   "metadata": {},
   "outputs": [],
   "source": [
    "### 'Coreloss After Aging'"
   ]
  },
  {
   "cell_type": "code",
   "execution_count": 56,
   "id": "2de98de2",
   "metadata": {},
   "outputs": [],
   "source": [
    "df=pd.read_csv(\"data.csv\")"
   ]
  },
  {
   "cell_type": "code",
   "execution_count": 57,
   "id": "1a0e5998",
   "metadata": {},
   "outputs": [],
   "source": [
    "X=df[['Slab Width', 'Slab Length', 'AL', 'B', 'C', 'CA', 'NB', 'CR', 'CU',\n",
    "       'MN', 'MO', 'N', 'NI', 'P', 'S', 'SI', 'TI', 'V',\n",
    "       'Reheating Furnace Exit Temp', 'Finishing Temp', 'Coiling Temp',\n",
    "       'FM Exit Thickness', 'Coil Outr Dia', 'Avg line speed', 'weld current',\n",
    "       'weld pressure', 'Reduction Ratio', 'ACL-Thickness', 'ACL-Width',\n",
    "       'ACL-Length', 'Heating Element Furnace Temp', 'Soaking Zone Temp',\n",
    "       'Exit Seal Temp', 'O2 in Heating Element Furnace',\n",
    "       'Heating Element Furnace Dewpoint', 'Baking Furnace Temp',\n",
    "       'Radiant Tube Furnace Dewpoint', 'After Tube Cooling Dewpoint',\n",
    "       'Rapid Jet Cooling Dewpoint', 'Slow Jet Cooling Dewpoint',\n",
    "       'Entry Looper Tension', 'Exit Looper Tension', 'Furnce Entry Tension',\n",
    "       'Furnace Exit Tension', 'Coating Thickness', 'Insulation Resistivity',\n",
    "       'Uncoiler Tension', 'Recoiler Tension', 'Radiant Tube Furnace Press',\n",
    "       'Heating Element Furnace Press ', 'Soaking Zone Press',\n",
    "       'After Tube Cooling Press', 'Drying Furnace Press',\n",
    "       'Rapid Jet Cooling Press']]\n",
    "y=df[['Coreloss After Aging']]"
   ]
  },
  {
   "cell_type": "code",
   "execution_count": 58,
   "id": "b24c3198",
   "metadata": {},
   "outputs": [],
   "source": [
    "from sklearn.model_selection import train_test_split\n",
    "X_train,X_test,y_train,y_test=train_test_split(X,y,test_size=0.2)"
   ]
  },
  {
   "cell_type": "code",
   "execution_count": 59,
   "id": "bdd1b860",
   "metadata": {},
   "outputs": [],
   "source": [
    "from sklearn.neighbors import KNeighborsRegressor"
   ]
  },
  {
   "cell_type": "code",
   "execution_count": 60,
   "id": "03968580",
   "metadata": {},
   "outputs": [],
   "source": [
    "reg=KNeighborsRegressor(n_neighbors=5)"
   ]
  },
  {
   "cell_type": "code",
   "execution_count": 61,
   "id": "5f034609",
   "metadata": {},
   "outputs": [
    {
     "data": {
      "text/plain": [
       "KNeighborsRegressor()"
      ]
     },
     "execution_count": 61,
     "metadata": {},
     "output_type": "execute_result"
    }
   ],
   "source": [
    "reg.fit(X_train,y_train)"
   ]
  },
  {
   "cell_type": "code",
   "execution_count": 62,
   "id": "63f09d8f",
   "metadata": {},
   "outputs": [
    {
     "data": {
      "text/plain": [
       "0.7816910974685755"
      ]
     },
     "execution_count": 62,
     "metadata": {},
     "output_type": "execute_result"
    }
   ],
   "source": [
    "reg.score(X_test,y_test)"
   ]
  },
  {
   "cell_type": "code",
   "execution_count": 63,
   "id": "e61e162c",
   "metadata": {},
   "outputs": [],
   "source": [
    "### 'Permeability'"
   ]
  },
  {
   "cell_type": "code",
   "execution_count": 64,
   "id": "c331739b",
   "metadata": {},
   "outputs": [],
   "source": [
    "X=df[['Slab Width', 'Slab Length', 'AL', 'B', 'C', 'CA', 'NB', 'CR', 'CU',\n",
    "       'MN', 'MO', 'N', 'NI', 'P', 'S', 'SI', 'TI', 'V',\n",
    "       'Reheating Furnace Exit Temp', 'Finishing Temp', 'Coiling Temp',\n",
    "       'FM Exit Thickness', 'Coil Outr Dia', 'Avg line speed', 'weld current',\n",
    "       'weld pressure', 'Reduction Ratio', 'ACL-Thickness', 'ACL-Width',\n",
    "       'ACL-Length', 'Heating Element Furnace Temp', 'Soaking Zone Temp',\n",
    "       'Exit Seal Temp', 'O2 in Heating Element Furnace',\n",
    "       'Heating Element Furnace Dewpoint', 'Baking Furnace Temp',\n",
    "       'Radiant Tube Furnace Dewpoint', 'After Tube Cooling Dewpoint',\n",
    "       'Rapid Jet Cooling Dewpoint', 'Slow Jet Cooling Dewpoint',\n",
    "       'Entry Looper Tension', 'Exit Looper Tension', 'Furnce Entry Tension',\n",
    "       'Furnace Exit Tension', 'Coating Thickness', 'Insulation Resistivity',\n",
    "       'Uncoiler Tension', 'Recoiler Tension', 'Radiant Tube Furnace Press',\n",
    "       'Heating Element Furnace Press ', 'Soaking Zone Press',\n",
    "       'After Tube Cooling Press', 'Drying Furnace Press',\n",
    "       'Rapid Jet Cooling Press']]\n",
    "y=df[['Permeability']]"
   ]
  },
  {
   "cell_type": "code",
   "execution_count": 65,
   "id": "a5b8ff4b",
   "metadata": {},
   "outputs": [],
   "source": [
    "from sklearn.model_selection import train_test_split\n",
    "X_train,X_test,y_train,y_test=train_test_split(X,y,test_size=0.2)"
   ]
  },
  {
   "cell_type": "code",
   "execution_count": 66,
   "id": "38435705",
   "metadata": {},
   "outputs": [],
   "source": [
    "from sklearn.neighbors import KNeighborsRegressor"
   ]
  },
  {
   "cell_type": "code",
   "execution_count": 67,
   "id": "935dcb32",
   "metadata": {},
   "outputs": [],
   "source": [
    "reg=KNeighborsRegressor(n_neighbors=5)"
   ]
  },
  {
   "cell_type": "code",
   "execution_count": 68,
   "id": "a6839854",
   "metadata": {},
   "outputs": [
    {
     "data": {
      "text/plain": [
       "KNeighborsRegressor()"
      ]
     },
     "execution_count": 68,
     "metadata": {},
     "output_type": "execute_result"
    }
   ],
   "source": [
    "reg.fit(X_train,y_train)"
   ]
  },
  {
   "cell_type": "code",
   "execution_count": 69,
   "id": "0605787e",
   "metadata": {},
   "outputs": [
    {
     "data": {
      "text/plain": [
       "0.6012722557103825"
      ]
     },
     "execution_count": 69,
     "metadata": {},
     "output_type": "execute_result"
    }
   ],
   "source": [
    "reg.score(X_test,y_test)"
   ]
  },
  {
   "cell_type": "code",
   "execution_count": 70,
   "id": "cfd7e2ae",
   "metadata": {},
   "outputs": [
    {
     "data": {
      "text/plain": [
       "(5221, 59)"
      ]
     },
     "execution_count": 70,
     "metadata": {},
     "output_type": "execute_result"
    }
   ],
   "source": [
    "df.shape"
   ]
  },
  {
   "cell_type": "code",
   "execution_count": 72,
   "id": "4a85249f",
   "metadata": {},
   "outputs": [
    {
     "data": {
      "text/plain": [
       "(5221, 54)"
      ]
     },
     "execution_count": 72,
     "metadata": {},
     "output_type": "execute_result"
    }
   ],
   "source": [
    "X.shape"
   ]
  },
  {
   "cell_type": "code",
   "execution_count": 73,
   "id": "47768385",
   "metadata": {},
   "outputs": [
    {
     "data": {
      "text/plain": [
       "(4176, 54)"
      ]
     },
     "execution_count": 73,
     "metadata": {},
     "output_type": "execute_result"
    }
   ],
   "source": [
    "X_train.shape"
   ]
  },
  {
   "cell_type": "code",
   "execution_count": 74,
   "id": "9cc90c9b",
   "metadata": {},
   "outputs": [
    {
     "data": {
      "text/plain": [
       "(1045, 54)"
      ]
     },
     "execution_count": 74,
     "metadata": {},
     "output_type": "execute_result"
    }
   ],
   "source": [
    "X_test.shape"
   ]
  },
  {
   "cell_type": "code",
   "execution_count": null,
   "id": "1c1882f2",
   "metadata": {},
   "outputs": [],
   "source": []
  }
 ],
 "metadata": {
  "kernelspec": {
   "display_name": "Python 3",
   "language": "python",
   "name": "python3"
  },
  "language_info": {
   "codemirror_mode": {
    "name": "ipython",
    "version": 3
   },
   "file_extension": ".py",
   "mimetype": "text/x-python",
   "name": "python",
   "nbconvert_exporter": "python",
   "pygments_lexer": "ipython3",
   "version": "3.8.8"
  }
 },
 "nbformat": 4,
 "nbformat_minor": 5
}
